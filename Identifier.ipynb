{
 "cells": [
  {
   "cell_type": "code",
   "execution_count": 1,
   "metadata": {},
   "outputs": [
    {
     "name": "stdout",
     "output_type": "stream",
     "text": [
      "Requirement already satisfied: Pillow in c:\\users\\ds\\appdata\\local\\programs\\python\\python311\\lib\\site-packages (10.2.0)\n",
      "Note: you may need to restart the kernel to use updated packages.\n"
     ]
    },
    {
     "name": "stderr",
     "output_type": "stream",
     "text": [
      "\n",
      "[notice] A new release of pip is available: 23.1.2 -> 24.0\n",
      "[notice] To update, run: python.exe -m pip install --upgrade pip\n"
     ]
    }
   ],
   "source": [
    "#fix weird branch stuff\n",
    "#download libraries\n",
    "%pip install Pillow"
   ]
  },
  {
   "cell_type": "code",
   "execution_count": 31,
   "metadata": {},
   "outputs": [
    {
     "name": "stdout",
     "output_type": "stream",
     "text": [
      "2\n"
     ]
    }
   ],
   "source": [
    "#1: Get training data\n",
    "\n",
    "#import images\n",
    "from PIL import Image\n",
    "from pathlib import Path\n",
    "\n",
    "#count files in a folder\n",
    "def count_files_in_folder(folder_path):\n",
    "    folder = Path(folder_path)\n",
    "    return sum(1 for item in folder.iterdir() if item.is_file())\n",
    "\n",
    "#set folder path to l_training data\n",
    "folder_path = 'l_training_data'\n",
    "num_files = count_files_in_folder(folder_path)\n",
    "\n",
    "imagelib = []\n",
    "\n",
    "#store all files into library to use for data training\n",
    "for i in range(num_files):\n",
    "    imagelib.append(\"l_training_data/img\" + str(i + 1) +\".png\")\n",
    "\n",
    "#verify correct number of files\n",
    "print(len(imagelib))\n",
    "\n",
    "#open image with line below\n",
    "#image = Image.open(filename)"
   ]
  },
  {
   "cell_type": "code",
   "execution_count": null,
   "metadata": {},
   "outputs": [],
   "source": []
  }
 ],
 "metadata": {
  "kernelspec": {
   "display_name": "Python 3",
   "language": "python",
   "name": "python3"
  },
  "language_info": {
   "codemirror_mode": {
    "name": "ipython",
    "version": 3
   },
   "file_extension": ".py",
   "mimetype": "text/x-python",
   "name": "python",
   "nbconvert_exporter": "python",
   "pygments_lexer": "ipython3",
   "version": "3.11.3"
  }
 },
 "nbformat": 4,
 "nbformat_minor": 2
}
